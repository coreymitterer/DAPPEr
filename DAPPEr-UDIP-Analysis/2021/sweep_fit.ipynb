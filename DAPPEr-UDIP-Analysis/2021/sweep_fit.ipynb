{
 "cells": [
  {
   "cell_type": "code",
   "execution_count": 164,
   "metadata": {},
   "outputs": [],
   "source": [
    "import numpy as np\n",
    "import os\n",
    "# from scipy import signal\n",
    "import UDIP_Lib_V19 as UDIP_Lib  #making updating UDIP_Lib easier\n",
    "import RockSat_1_14_fitting_functions as R_fitting\n",
    "import json\n",
    "import matplotlib.pyplot as plt\n",
    "from RockSat_json import *\n",
    "from scipy.optimize import *"
   ]
  },
  {
   "cell_type": "code",
   "execution_count": 165,
   "metadata": {},
   "outputs": [],
   "source": [
    "year = 2021\n",
    "packets = import_data(f'/Users/joshuagoodwill/packets/{year}_packet.json')\n",
    "\n",
    "sw_num = 1500\n",
    "V_arr = np.array(packets['packets']['Medium'][f'{sw_num}']['Voltage'])\n",
    "I_arr = np.array(packets['packets']['Medium'][f'{sw_num}']['Current0'])"
   ]
  },
  {
   "cell_type": "code",
   "execution_count": 166,
   "metadata": {},
   "outputs": [
    {
     "data": {
      "text/plain": [
       "dict_keys(['Start', 'Stop', 'Count', 'Voltage', 'Current0', 'Current1', 'Current2'])"
      ]
     },
     "execution_count": 166,
     "metadata": {},
     "output_type": "execute_result"
    }
   ],
   "source": [
    "packets['packets']['Medium']['0'].keys()"
   ]
  },
  {
   "cell_type": "code",
   "execution_count": 167,
   "metadata": {},
   "outputs": [],
   "source": [
    "import numpy as np\n",
    "from scipy.optimize import curve_fit\n",
    "\n",
    "'''\n",
    "def gen_fit(x, y):\n",
    "Generates fit of linear and sqrt portion of IV arrays. Refer to\n",
    "data_processing to idenify filtering of IV arrays. scipy.optimize.curve_fit\n",
    "used to fit non-linear least squares to fit\n",
    "\n",
    "input:\n",
    "V_arr (array); Voltage array\n",
    "I_arr (array); Current array\n",
    "proc* (boolean); Whether to process the arrays for better fitting\n",
    "\n",
    "output:\n",
    "V_fit (np.array); linear space between min and max voltages from V_arr\n",
    "model(t, *popt) (np.array); fitted model of I_arr using Voltage range and \n",
    "                            pointer to popt\n",
    "popt(array); optimal values for parameters\n",
    "  V_f  (float) = popt[0]; Plasma potential\n",
    "  m1   (float) = popt[1]; slope of linear fit\n",
    "  b    (float) = popt[2]  (float); y-intercept of linear fit\n",
    "  ne   (float) = popt[3]; electron density [cm^{-3}]\n",
    "  etemp(float) = popt[4]; electron temperature [K]\n",
    "  VP   (float) = popt[5]; negative plasma potential [V]\n",
    "  \n",
    "pcov(2D np.array); covariance of popt array\n",
    "'''\n",
    "\n",
    "def gen_fit(V_arr, I_arr, proc = False):\n",
    "    V_proc = []\n",
    "    I_proc = []\n",
    "    if proc == True:\n",
    "        V_proc, I_proc = data_processing(V_arr, I_arr)\n",
    "    else:\n",
    "        V_proc, I_proc = V_arr, I_arr\n",
    "    # guess = [0, 0, 0, 0, 0, 0]\n",
    "    # guess = [0.6, 0 , 0, 5*(10**10),1000,-0.5]    #intial guess\n",
    "    # print(b)\n",
    "    # b = ((-3,-np.inf,-np.inf,0),(3,np.inf,np.inf,np.inf))\n",
    "    # b = ((-1,-1000,-1000,0 ,0, 0 ),(1,1000,1000,np.inf, np.inf,1)) #bounds\n",
    "    guess = [0.6, 100, 80, 8*(10**10), 1000,-0.5]    #intial guess\n",
    "    b = ((0,-100,-100,0,0,-3),(3,100,100,np.inf,10000,3)) #bounds\n",
    "    # b = ((-3, -3, -3, -3, -3, -3),(1, 1, 1, 1, 1, 1)) #bounds\n",
    "    # popt, pcov = curve_fit(model, V_proc, I_proc)\n",
    "    popt, pcov = curve_fit(model, V_proc, I_proc, guess, bounds = b)\n",
    "    V_fit = np.linspace(min(V_proc),max(V_proc), num = 200) #Voltage array processed for fit\n",
    "    return V_fit, model(V_fit,*popt), popt, pcov\n",
    "\n",
    "'''\n",
    "def model(V_proc, VP, m1, b, ne, etemp, V0):\n",
    "Model to fit ion, *transition*, electron saturation regions\n",
    "\n",
    "input:\n",
    "V_proc (np.array); processed V_arr for fitting\n",
    "Vf (float); floating potential\n",
    "m1 (float); slope of linear fit\n",
    "b  (float); y-intercept of linear fit\n",
    "ne (float); electron density [cm^{-2}]\n",
    "etemp(float); electron temperature [K]\n",
    "VP (float); negative plasma potential [V]\n",
    "'''\n",
    "\n",
    "def model(V_proc, Vf, m1, b, ne, etemp, VP):\n",
    "    I_fit = np.zeros(len(V_proc))\n",
    "    #Linear fit for ion saturation\n",
    "    I_fit[V_proc <= Vf] = lin_fit(V_proc[V_proc <= Vf], m1, b) \n",
    "    #Sqrt fit for electron saturation\n",
    "    I_fit[V_proc > Vf] = sqrt_fit(V_proc[V_proc > Vf], ne, etemp ,VP) \\\n",
    "                         - sqrt_fit(Vf, ne , etemp, VP)\n",
    "    return I_fit\n",
    "\n",
    "def lin_fit(x, m, y_int): #linear--full model square root\n",
    "    return m * x + y_int\n",
    "\n",
    "'''\n",
    "def sqrt_fit(x, ne, etemp, V0)\n",
    "Uses Eq. 1.4 and 1.5 of https://digitalcommons.usu.edu/etd/274\n",
    "\n",
    "input:\n",
    "x (np.array); V_proc [V]\n",
    "ne (float); electron density [cm?]\n",
    "etemp(float); electron temperature [K]\n",
    "VP (float); negative plasma potential [V]\n",
    "\n",
    "output:\n",
    "I (float); current fit [nA]\n",
    "'''\n",
    "def sqrt_fit(x, ne, etemp, VP):# square root\n",
    "    q_e = 1.602 * 10**-19 #electron charge [C]\n",
    "    K_b = 1.381 * 10**-23 #boltzman constant [m^2*kg/(s^2*K)]   \n",
    "    m_e = 9.109 * 10**-31 #electron mass [kg]              \n",
    "    R = (3./16.) * 0.0254 #radius of probe [cm?]\n",
    "    L = (3.25) * 0.0254 #length of probe [cm?]\n",
    "    A = 2. * np.pi * R * L + np.pi * (R ** 2) #top and length area of cylinder [cm^2]\n",
    "\n",
    "    k = q_e / (K_b * etemp)\n",
    "    I0 = ne * q_e * np.sqrt(K_b * etemp / (2. * np.pi * m_e)) * A / (10**-9)\n",
    "    return I0 * np.sqrt(1. + k*(x + VP))\n",
    "\n",
    "'''\n",
    "def data_processing(V, I)\n",
    "Processes Voltage and Current arrays to reduce points for fitting algorithm.\n",
    "Removes Voltage below -3 V and above first max of Current array\n",
    "\n",
    "input:\n",
    "V (np.array); Normal Voltage array\n",
    "I (np.array); Normal Current array\n",
    "\n",
    "output:\n",
    "V_proc (np.array); processed Voltage array\n",
    "I_proc (np.array); processed Current array\n",
    "'''\n",
    "\n",
    "def data_processing(V, I):\n",
    "    Imax = np.argmax(I) #find index of maximum Current\n",
    "    if (Imax.size != 1):\n",
    "        Vmin_Imax = np.argmin(V[Imax]) #find lowest voltage value with max current\n",
    "    else:\n",
    "        Vmin_Imax = Imax\n",
    "    V_rem = (V > -3) & (V < V[Vmin_Imax]) #array of voltages > -3V and < Vmin_Imax\n",
    "    V_proc = V[V_rem]\n",
    "    I_proc = I[V_rem]\n",
    "    return V_proc, I_proc\n"
   ]
  },
  {
   "cell_type": "code",
   "execution_count": 168,
   "metadata": {},
   "outputs": [
    {
     "name": "stderr",
     "output_type": "stream",
     "text": [
      "/var/folders/vd/xvmkswd51pn4d88fylf_g0kh0000gn/T/ipykernel_74889/1446243267.py:99: RuntimeWarning: invalid value encountered in sqrt\n",
      "  return I0 * np.sqrt(1. + k*(x + VP))\n"
     ]
    }
   ],
   "source": [
    "V_proc, I_proc = data_processing(V_arr, I_arr)\n",
    "V_fit, I_fit, params, cov = gen_fit(V_arr, I_arr, proc = True)\n",
    "# generate_fit(V_arr, I_arr)"
   ]
  },
  {
   "cell_type": "code",
   "execution_count": 169,
   "metadata": {},
   "outputs": [
    {
     "name": "stdout",
     "output_type": "stream",
     "text": [
      "0.6331471596767813\n"
     ]
    }
   ],
   "source": [
    "print(params[0])"
   ]
  },
  {
   "cell_type": "code",
   "execution_count": 170,
   "metadata": {},
   "outputs": [
    {
     "name": "stdout",
     "output_type": "stream",
     "text": [
      "[ 6.33147160e-01  3.71265902e+01 -3.89185433e+01  5.64993776e+10\n",
      "  7.20390040e+02 -6.67515467e-01]\n"
     ]
    }
   ],
   "source": [
    "print(params)"
   ]
  },
  {
   "cell_type": "code",
   "execution_count": 171,
   "metadata": {},
   "outputs": [
    {
     "name": "stdout",
     "output_type": "stream",
     "text": [
      "-2.7292486616404323 -140.24623997408995\n",
      "-2.691788491113589 -138.85547157378943\n",
      "[ 6.33147160e-01  3.71265902e+01 -3.89185433e+01  5.64993776e+10\n",
      "  7.20390040e+02 -6.67515467e-01]\n"
     ]
    }
   ],
   "source": [
    "n = 7\n",
    "print(V_fit[n], I_fit[n])\n",
    "Vf = 8\n",
    "print(V_fit[Vf], I_fit[Vf])\n",
    "print(params)"
   ]
  },
  {
   "cell_type": "code",
   "execution_count": 172,
   "metadata": {},
   "outputs": [],
   "source": [
    "x = np.linspace(-6, 0, 100)\n",
    "y = 53.91311083 * x + -49.40035528"
   ]
  },
  {
   "cell_type": "code",
   "execution_count": 174,
   "metadata": {},
   "outputs": [
    {
     "data": {
      "image/png": "[encoded data removed]",
      "text/plain": [
       "<Figure size 432x288 with 1 Axes>"
      ]
     },
     "metadata": {
      "needs_background": "light"
     },
     "output_type": "display_data"
    }
   ],
   "source": [
    "plt.plot(V_arr, I_arr)\n",
    "plt.plot(V_fit, I_fit)\n",
    "plt.grid()\n",
    "plt.savefig('fit.jpg')"
   ]
  },
  {
   "cell_type": "code",
   "execution_count": null,
   "metadata": {},
   "outputs": [],
   "source": []
  }
 ],
 "metadata": {
  "kernelspec": {
   "display_name": "base",
   "language": "python",
   "name": "python3"
  },
  "language_info": {
   "codemirror_mode": {
    "name": "ipython",
    "version": 3
   },
   "file_extension": ".py",
   "mimetype": "text/x-python",
   "name": "python",
   "nbconvert_exporter": "python",
   "pygments_lexer": "ipython3",
   "version": "3.9.7"
  }
 },
 "nbformat": 4,
 "nbformat_minor": 2
}
