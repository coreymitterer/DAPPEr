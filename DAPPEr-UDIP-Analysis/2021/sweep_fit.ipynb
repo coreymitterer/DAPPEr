{
 "cells": [
  {
   "cell_type": "code",
   "execution_count": 23,
   "metadata": {},
   "outputs": [],
   "source": [
    "import numpy as np\n",
    "import os\n",
    "from scipy import signal\n",
    "import UDIP_Lib_V19 as UDIP_Lib  #making updating UDIP_Lib easier\n",
    "import RockSat_1_14_fitting_functions as R_fitting\n",
    "import json\n",
    "import matplotlib.pyplot as plt\n",
    "from RockSat_json import *\n",
    "from scipy.optimize import curve_fit"
   ]
  },
  {
   "cell_type": "code",
   "execution_count": 24,
   "metadata": {},
   "outputs": [],
   "source": [
    "year = 2021\n",
    "packets = import_data(f'/Users/joshuagoodwill/packets/{year}_packet.json')\n",
    "\n",
    "sw_num = 1000\n",
    "V_arr = np.array(packets['packets']['Medium'][f'{sw_num}']['Voltage'])\n",
    "I_arr = np.array(packets['packets']['Medium'][f'{sw_num}']['Current0'])"
   ]
  },
  {
   "cell_type": "code",
   "execution_count": 39,
   "metadata": {},
   "outputs": [
    {
     "data": {
      "text/plain": [
       "dict_keys(['Start', 'Stop', 'Count', 'Voltage', 'Current0', 'Current1', 'Current2'])"
      ]
     },
     "execution_count": 39,
     "metadata": {},
     "output_type": "execute_result"
    }
   ],
   "source": [
    "packets['packets']['Medium']['0'].keys()"
   ]
  },
  {
   "cell_type": "code",
   "execution_count": 25,
   "metadata": {},
   "outputs": [],
   "source": [
    "import numpy as np\n",
    "from scipy.optimize import curve_fit\n",
    "\n",
    "'''\n",
    "def gen_fit(x, y):\n",
    "Generates fit of linear and sqrt portion of IV arrays. Refer to\n",
    "data_processing to idenify filtering of IV arrays. scipy.optimize.curve_fit\n",
    "used to fit non-linear least squares to fit\n",
    "\n",
    "input:\n",
    "V_arr (array); Voltage array\n",
    "I_arr (array); Current array\n",
    "proc* (boolean); Whether to process the arrays for better fitting\n",
    "\n",
    "output:\n",
    "V_fit (np.array); linear space between min and max voltages from V_arr\n",
    "model(t, *popt) (np.array); fitted model of I_arr using Voltage range and \n",
    "                            pointer to popt\n",
    "popt(array); optimal values for parameters\n",
    "  V_f = popt[0]; Plasma potential\n",
    "  I_p = popt[1]; Current at Floating \n",
    "  \n",
    "pcov(2D np.array); covariance of popt array\n",
    "'''\n",
    "\n",
    "def gen_fit(V_arr, I_arr, proc = False):\n",
    "    if proc == True:\n",
    "        V_proc, I_proc = data_processing(V_arr, I_arr)\n",
    "    guess = [0.6,-14,80, 5*(10**10),1000,-0.5]    #intial guess\n",
    "    b = ((-3,-np.inf,-np.inf,0,0,-3),(3,np.inf,np.inf,np.inf,10000,3)) #bounds\n",
    "    popt, pcov = curve_fit(model, V_proc, I_proc, guess, bounds = b)\n",
    "    V_fit = np.linspace(min(V_proc),max(V_proc), num = 50) #Voltage array processed for fit\n",
    "    return V_fit, model(V_fit,*popt), popt, pcov, V_proc, I_proc\n",
    "\n",
    "'''\n",
    "def model(V_proc, VP, m1, b, ne, etemp, V0):\n",
    "Model to fit ion, *transition*, electron saturation regions\n",
    "\n",
    "input:\n",
    "V_proc (np.array); processed V_arr for fitting\n",
    "Vf (float); floating potential\n",
    "m1 (float); slope of linear fit\n",
    "b  (float); y-intercept of linear fit\n",
    "ne (float); electron density [cm^{-2}]\n",
    "etemp(float); electron temperature [K]\n",
    "VP (float); negative plasma potential [V]\n",
    "'''\n",
    "\n",
    "def model(V_proc, Vf, m1, b, ne, etemp, VP):\n",
    "    I_fit = np.zeros(len(V_proc))\n",
    "    #Linear fit for ion saturation\n",
    "    I_fit[V_proc <= Vf] = lin_fit(V_proc[V_proc <= Vf], m1, b) \n",
    "    #Sqrt fit for electron saturation\n",
    "    I_fit[V_proc > Vf] = sqrt_fit(V_proc[V_proc > Vf], ne, etemp ,VP) \\\n",
    "                         - sqrt_fit(Vf, ne , etemp, VP)\n",
    "    return I_fit\n",
    "\n",
    "def lin_fit(x, m, y_int): #linear--full model square root\n",
    "    return m * x + y_int\n",
    "\n",
    "'''\n",
    "def sqrt_fit(x, ne, etemp, V0)\n",
    "Uses Eq. 1.4 and 1.5 of https://digitalcommons.usu.edu/etd/274\n",
    "\n",
    "input:\n",
    "x (np.array); V_proc [V]\n",
    "ne (float); electron density [cm?]\n",
    "etemp(float); electron temperature [K]\n",
    "VP (float); negative plasma potential [V]\n",
    "\n",
    "output:\n",
    "I (float); current fit [nA]\n",
    "'''\n",
    "def sqrt_fit(x, ne, etemp, VP):# square root\n",
    "    q_e = 1.602 * 10**-19 #electron charge [C]\n",
    "    K_b = 1.381 * 10**-23 #boltzman constant [m^2*kg/(s^2*K)]   \n",
    "    m_e = 9.109 * 10**-31 #electron mass [kg]              \n",
    "    R = (3./16.) * 0.0254 #radius of probe [cm?]\n",
    "    L = (3.25) * 0.0254 #length of probe [cm?]\n",
    "    A = 2. * np.pi * R * L + np.pi * (R ** 2) #top and length area of cylinder [cm^2]\n",
    "\n",
    "    k = q_e / (K_b * etemp)\n",
    "    I0 = ne * q_e * np.sqrt(K_b * etemp / (2. * np.pi * m_e)) * A / (10**-9)\n",
    "    return I0 * np.sqrt(1. + k*(x + VP))\n",
    "\n",
    "'''\n",
    "def data_processing(V, I)\n",
    "Processes Voltage and Current arrays to reduce points for fitting algorithm.\n",
    "Removes Voltage below -3 V and above first max of Current array\n",
    "\n",
    "input:\n",
    "V (np.array); Normal Voltage array\n",
    "I (np.array); Normal Current array\n",
    "\n",
    "output:\n",
    "V_proc (np.array); processed Voltage array\n",
    "I_proc (np.array); processed Current array\n",
    "'''\n",
    "\n",
    "def data_processing(V, I):\n",
    "    Imax = np.argmax(I) #find index of maximum Current\n",
    "    if (Imax.size != 1):\n",
    "        Vmin_Imax = np.argmin(V[Imax]) #find lowest voltage value with max current\n",
    "    else:\n",
    "        Vmin_Imax = Imax\n",
    "    V_rem = (V > -3) & (V < V[Vmin_Imax]) #array of voltages > -3V and < Vmin_Imax\n",
    "    V_proc = V[V_rem]\n",
    "    I_proc = I[V_rem]\n",
    "    return V_proc, I_proc\n"
   ]
  },
  {
   "cell_type": "code",
   "execution_count": 26,
   "metadata": {},
   "outputs": [],
   "source": [
    "V_fit, I_fit, params, cov, V_proc, I_proc = gen_fit(V_arr, I_arr)\n",
    "# generate_fit(V_arr, I_arr)"
   ]
  },
  {
   "cell_type": "code",
   "execution_count": 27,
   "metadata": {},
   "outputs": [
    {
     "name": "stdout",
     "output_type": "stream",
     "text": [
      "0.5352471833715373\n"
     ]
    }
   ],
   "source": [
    "print(params[0])"
   ]
  },
  {
   "cell_type": "code",
   "execution_count": 28,
   "metadata": {},
   "outputs": [
    {
     "name": "stdout",
     "output_type": "stream",
     "text": [
      "-1.953840321169957 -151.6884417457789\n",
      "-1.806888056065809 -144.65891391518517\n",
      "[ 5.35247183e-01  4.78354507e+01 -5.82256094e+01  6.08180480e+10\n",
      "  8.92798836e+02 -5.72339359e-01]\n"
     ]
    }
   ],
   "source": [
    "n = 7\n",
    "print(V_fit[n], I_fit[n])\n",
    "Vf = 8\n",
    "print(V_fit[Vf], I_fit[Vf])\n",
    "print(params)"
   ]
  },
  {
   "cell_type": "code",
   "execution_count": 32,
   "metadata": {},
   "outputs": [
    {
     "data": {
      "text/plain": [
       "[<matplotlib.lines.Line2D at 0x7fb38881c2e0>]"
      ]
     },
     "execution_count": 32,
     "metadata": {},
     "output_type": "execute_result"
    },
    {
     "data": {
      "image/png": "[encoded data removed]",
      "text/plain": [
       "<Figure size 432x288 with 1 Axes>"
      ]
     },
     "metadata": {
      "needs_background": "light"
     },
     "output_type": "display_data"
    }
   ],
   "source": [
    "plt.axhline(0)\n",
    "plt.plot(V_proc, I_proc)\n",
    "plt.plot(V_fit, I_fit)"
   ]
  },
  {
   "cell_type": "code",
   "execution_count": 31,
   "metadata": {},
   "outputs": [
    {
     "name": "stdout",
     "output_type": "stream",
     "text": [
      "[-60.30457995]\n"
     ]
    }
   ],
   "source": [
    "print(I_fit[(V_fit < 0.1) & (V_fit > -0.1)])"
   ]
  },
  {
   "cell_type": "code",
   "execution_count": null,
   "metadata": {},
   "outputs": [],
   "source": []
  }
 ],
 "metadata": {
  "kernelspec": {
   "display_name": "base",
   "language": "python",
   "name": "python3"
  },
  "language_info": {
   "codemirror_mode": {
    "name": "ipython",
    "version": 3
   },
   "file_extension": ".py",
   "mimetype": "text/x-python",
   "name": "python",
   "nbconvert_exporter": "python",
   "pygments_lexer": "ipython3",
   "version": "3.9.7"
  }
 },
 "nbformat": 4,
 "nbformat_minor": 2
}
