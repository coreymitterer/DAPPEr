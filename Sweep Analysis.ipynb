{
 "cells": [
  {
   "cell_type": "markdown",
   "metadata": {},
   "source": [
    "# Importing Data "
   ]
  },
  {
   "cell_type": "code",
   "execution_count": 104,
   "metadata": {},
   "outputs": [],
   "source": [
    "import numpy as np\n",
    "import os\n",
    "from scipy import signal\n",
    "import UDIP_Lib_V19 as UDIP_Lib  #making updating UDIP_Lib easier\n",
    "import RockSat_1_14_fitting_functions as R_fitting\n",
    "import json\n",
    "import matplotlib.pyplot as plt\n",
    "from RockSat_json import *"
   ]
  },
  {
   "cell_type": "code",
   "execution_count": 105,
   "metadata": {},
   "outputs": [],
   "source": [
    "year = 2021\n",
    "#packets = import_data(f'../{year}/{year}_packet.json')\n",
    "packets = import_data(f'{year}_packet.json')"
   ]
  },
  {
   "cell_type": "markdown",
   "metadata": {},
   "source": [
    "# Get Sweep and Saving Figures"
   ]
  },
  {
   "cell_type": "code",
   "execution_count": 106,
   "metadata": {},
   "outputs": [],
   "source": [
    "def get_sweep(sw, cn = 0):\n",
    "\n",
    "  sec = np.linspace(0, 1, 5)\n",
    "\n",
    "  start = sw['Start']\n",
    "  stop =  sw['Stop']\n",
    "\n",
    "  sw['Voltage'] = np.array(sw['Voltage'])\n",
    "  sw[f'Current{cn}'] = np.array(sw[f'Current{cn}'])\n",
    "\n",
    "  V1 = sw['Voltage']     [0: int(sec[1] * len(sw['Voltage' ]))]\n",
    "  I1 = sw[f'Current{cn}'][0: int(sec[1] * len(sw[f'Current1']))]\n",
    "\n",
    "  V2 = sw['Voltage']     [int(sec[1]*len(sw['Voltage' ]))      :int(sec[2]*len(sw['Current1'])) ]\n",
    "  I2 = sw[f'Current{cn}'][int(sec[1]*len(sw[f'Current{cn}']))  :int(sec[2]*len(sw['Current1'])) ]\n",
    "\n",
    "  V3 = sw['Voltage']     [int(sec[2]*len(sw['Voltage' ]))      :int(sec[3]*len(sw['Current1'])) ]\n",
    "  I3 = sw[f'Current{cn}'][int(sec[2]*len(sw[f'Current{cn}']))  :int(sec[3]*len(sw['Current1'])) ] \n",
    "\n",
    "  V4 = sw['Voltage']     [int(sec[3]*len(sw['Voltage' ]))      :int(sec[4]*len(sw['Current1'])) ]\n",
    "  I4 = sw[f'Current{cn}'][int(sec[3]*len(sw[f'Current{cn}']))  :int(sec[4]*len(sw['Current1'])) ]\n",
    "\n",
    "  Vf = sw['Voltage']     [int(sec[1]*len(sw['Voltage' ]))      :int(sec[3]*len(sw['Current1'])) ]\n",
    "  If = sw[f'Current{cn}'][int(sec[1]*len(sw[f'Current{cn}']))  :int(sec[3]*len(sw['Current1'])) ]\n",
    "  return start, stop, V1, I1, V2, I2, V3, I3, V4, I4"
   ]
  },
  {
   "cell_type": "code",
   "execution_count": 67,
   "metadata": {},
   "outputs": [],
   "source": [
    "sw_range = np.arange(0,int(len(packets['packets']['Medium'])), 100) "
   ]
  },
  {
   "cell_type": "code",
   "execution_count": null,
   "metadata": {},
   "outputs": [],
   "source": [
    "cn = 0\n",
    "fig, axs = plt.subplots(3, 1, figsize=(10, 10))\n",
    "for i in sw_range:\n",
    "  for axnum in np.arange(len(axs)):\n",
    "    axs[axnum].clear()\n",
    "    cn = axnum\n",
    "    start, stop, V1, I1, V2, I2, V3, I3, V4, I4 = get_sweep(packets['packets']['Medium'][f'{i}'], cn = cn)\n",
    "\n",
    "    axs[axnum].plot(V1, I1 , label = r'$ 0V : 6V$')\n",
    "    axs[axnum].plot(V2, I2 , label = r'$ 6V:  0V$')\n",
    "    axs[axnum].plot(V3, I3 , label = r'$ 0V: -6V$')\n",
    "    axs[axnum].plot(V4, I4 , label = r'$-6V : 0V$')\n",
    "    axs[axnum].legend(title = f'ADC {cn}', loc = 'upper left')\n",
    "    axs[axnum].grid()\n",
    "  axs[0].set_title(f't = {start} s: {stop}s')\n",
    "  axs[2].set_xlabel('Voltage')\n",
    "  axs[1].set_ylabel('Current')\n",
    "  plt.savefig(f'../{year}/Sweeps/sw_{i}.jpg' , dpi = 400) "
   ]
  },
  {
   "cell_type": "markdown",
   "metadata": {},
   "source": [
    "# Objective for 3/20"
   ]
  },
  {
   "cell_type": "markdown",
   "metadata": {},
   "source": [
    "Use gen fit \n",
    " * popt = optimize parameters\n",
    "  t is x, y is model \n",
    "extract popt  it will be an array of values array of values\n",
    "* (Around 30)\n",
    "Plot it to check to see if you have a good fit "
   ]
  },
  {
   "cell_type": "markdown",
   "metadata": {},
   "source": [
    "**Note**: Use Sweeps 1000 - 1900 as they show the best IV curves"
   ]
  },
  {
   "cell_type": "markdown",
   "metadata": {},
   "source": [
    "* x, y, popt, pcov = genfit(V, I)\n",
    "    * x and y will be your fitted IV curve\n",
    "    * popt is an array of m, b ,and a\n",
    "* look at electron saturation region eq, inside equation is B, get Te from that since everything is a constant besdies Te\n",
    "* Look at line 44 in rock sat fitting functions "
   ]
  },
  {
   "cell_type": "code",
   "execution_count": 107,
   "metadata": {},
   "outputs": [],
   "source": [
    "V = packets['packets']['Medium']['1000']['Voltage']\n",
    "I = packets['packets']['Medium']['1000']['Current0']"
   ]
  },
  {
   "cell_type": "markdown",
   "metadata": {},
   "source": [
    "Use log linear fit for voltage instead of normal linear fit"
   ]
  },
  {
   "cell_type": "code",
   "execution_count": null,
   "metadata": {},
   "outputs": [],
   "source": [
    "# From Sweep 1000 to 1800 "
   ]
  },
  {
   "cell_type": "code",
   "execution_count": 109,
   "metadata": {},
   "outputs": [
    {
     "name": "stdout",
     "output_type": "stream",
     "text": [
      "[ 5.34172231e-01 -3.81171970e+00  1.46941755e+02  6.10158388e+10\n",
      "  8.65397277e+02 -5.67603410e-01]\n"
     ]
    }
   ],
   "source": [
    "x, y, popt, pcov = R_fitting.gen_fit(np.array(V), np.array(I)) # x is V, y is I\n",
    "#print(x)\n",
    "#print(y)\n",
    "print(popt) #popt[0:xa,1:b,2:m1,3:n,4:t,5:V0] from rocksat fitting functions\n",
    "#print(pcov)  \n",
    "#plt.plot(x,y)"
   ]
  },
  {
   "cell_type": "code",
   "execution_count": 61,
   "metadata": {},
   "outputs": [
    {
     "data": {
      "text/plain": [
       "0.5341722309513347"
      ]
     },
     "execution_count": 61,
     "metadata": {},
     "output_type": "execute_result"
    }
   ],
   "source": [
    "popt[0]"
   ]
  },
  {
   "cell_type": "code",
   "execution_count": 59,
   "metadata": {},
   "outputs": [
    {
     "name": "stdout",
     "output_type": "stream",
     "text": [
      "0.0007252135352356753\n",
      "23106.924451542698\n",
      "241200.16424548868\n",
      "2.7017678873964273e+18\n",
      "2.903715803212709e+17\n",
      "2157825909.49563\n"
     ]
    }
   ],
   "source": [
    "#Don't worry about this for now\n",
    "#for i in range(len(pcov)):\n",
    "    #print(pcov[i][i])"
   ]
  },
  {
   "cell_type": "markdown",
   "metadata": {},
   "source": [
    "_Q_: What are the units for the output?\n",
    "* T is in Kelvin\n",
    "* n is in m^3"
   ]
  },
  {
   "cell_type": "markdown",
   "metadata": {},
   "source": [
    "Is it a good fit?"
   ]
  },
  {
   "cell_type": "code",
   "execution_count": 137,
   "metadata": {},
   "outputs": [
    {
     "data": {
      "text/plain": [
       "[<matplotlib.lines.Line2D at 0x220cdc2f4f0>]"
      ]
     },
     "execution_count": 137,
     "metadata": {},
     "output_type": "execute_result"
    },
    {
     "data": {
      "image/png": "[encoded data removed]",
      "text/plain": [
       "<Figure size 640x480 with 1 Axes>"
      ]
     },
     "metadata": {},
     "output_type": "display_data"
    }
   ],
   "source": [
    "plt.plot(V,I)\n",
    "plt.plot(x,y)\n",
    "# Limit to 1 V "
   ]
  },
  {
   "cell_type": "code",
   "execution_count": 132,
   "metadata": {},
   "outputs": [],
   "source": [
    "sw_good = np.arange(1000,int(len(packets['packets']['Medium'],)), 100) "
   ]
  },
  {
   "cell_type": "code",
   "execution_count": 133,
   "metadata": {},
   "outputs": [
    {
     "name": "stdout",
     "output_type": "stream",
     "text": [
      "[1000, 1100, 1200, 1300, 1400, 1500, 1600, 1700, 1800]\n"
     ]
    }
   ],
   "source": [
    "sweep = [] #List of sweeps between 1000 and 1900 \n",
    "for i in range(len(sw_good)):\n",
    "    if sw_good[i] < 1900: \n",
    "        sweep.append(sw_good[i])\n",
    "\n",
    "print(sweep)"
   ]
  },
  {
   "cell_type": "code",
   "execution_count": 134,
   "metadata": {},
   "outputs": [
    {
     "data": {
      "text/plain": [
       "Text(0, 0.5, 'Density')"
      ]
     },
     "execution_count": 134,
     "metadata": {},
     "output_type": "execute_result"
    },
    {
     "data": {
      "image/png": "[encoded data removed]",
      "text/plain": [
       "<Figure size 500x500 with 1 Axes>"
      ]
     },
     "metadata": {},
     "output_type": "display_data"
    }
   ],
   "source": [
    "fig, ax = plt.subplots(1, 1, figsize=(5, 5))\n",
    "n = []\n",
    "t = []\n",
    "for i in range(len(sweep)):\n",
    "  sweep_num = sweep[i]\n",
    "  V = packets['packets']['Medium'][f'{sweep_num}']['Voltage']\n",
    "  I = packets['packets']['Medium'][f'{sweep_num}']['Current0']\n",
    "  x, y, popt, pcov = R_fitting.gen_fit(np.array(V), np.array(I))\n",
    "  n.append(popt[3])\n",
    "  t.append(popt[4])\n",
    "  #x, y, popt, pcov = R_fitting.gen_fit(np.array(V), np.array(I))\n",
    "  \n",
    "    \n",
    "\n",
    "ax.plot(t,n)    \n",
    "#ax[0].set_title(f't = {start} s: {stop}s')\n",
    "ax.set_xlabel('Temperature')\n",
    "ax.set_ylabel('Density')\n",
    "#plt.savefig(f'../{year}/Sweeps/sw_{i}.jpg' , dpi = 400) "
   ]
  },
  {
   "cell_type": "code",
   "execution_count": 135,
   "metadata": {},
   "outputs": [
    {
     "name": "stdout",
     "output_type": "stream",
     "text": [
      "865.39727749284\n",
      "714.2560287390756\n",
      "591.9824578331031\n",
      "757.660017407393\n",
      "994.9074873369086\n",
      "612.0910972712978\n",
      "1259.2863605721182\n",
      "423.8617712847565\n",
      "1610.4500833214156\n"
     ]
    }
   ],
   "source": [
    "for i in range(len(t)):\n",
    "    print(t[i])\n"
   ]
  },
  {
   "cell_type": "code",
   "execution_count": 136,
   "metadata": {},
   "outputs": [
    {
     "name": "stdout",
     "output_type": "stream",
     "text": [
      "61015838792.71766\n",
      "54573412938.77113\n",
      "84594525046.6829\n",
      "54023121824.07938\n",
      "66884863541.768036\n",
      "54855489653.18692\n",
      "38746393858.670784\n",
      "44963054703.13971\n",
      "39500821969.14007\n"
     ]
    }
   ],
   "source": [
    "for i in range(len(n)):\n",
    "    print(n[i])"
   ]
  },
  {
   "cell_type": "markdown",
   "metadata": {},
   "source": [
    "#### Testing"
   ]
  },
  {
   "cell_type": "code",
   "execution_count": null,
   "metadata": {},
   "outputs": [],
   "source": [
    "for i in range(len(sweep)):\n",
    "    x, y, popt, pcov = R_fitting.gen_fit(np.array(V), np.array(I))"
   ]
  },
  {
   "cell_type": "code",
   "execution_count": 118,
   "metadata": {},
   "outputs": [],
   "source": [
    "n_test = []\n",
    "t_test = []\n",
    "for i in range(2):\n",
    "  sweep_num = sweep[i]\n",
    "  V = packets['packets']['Medium'][f'{sweep_num}']['Voltage']\n",
    "  I = packets['packets']['Medium'][f'{sweep_num}']['Current0']\n",
    "  x, y, popt, pcov = R_fitting.gen_fit(np.array(V), np.array(I))\n",
    "  n_test.append(popt[3])\n",
    "  t_test.append(popt[4])"
   ]
  },
  {
   "cell_type": "code",
   "execution_count": 119,
   "metadata": {},
   "outputs": [
    {
     "data": {
      "text/plain": [
       "[61015838792.71766, 54573412938.77113]"
      ]
     },
     "execution_count": 119,
     "metadata": {},
     "output_type": "execute_result"
    }
   ],
   "source": [
    "n_test"
   ]
  },
  {
   "cell_type": "code",
   "execution_count": 123,
   "metadata": {},
   "outputs": [],
   "source": [
    "#x = packets['packets']['Medium']['0']"
   ]
  }
 ],
 "metadata": {
  "kernelspec": {
   "display_name": "base",
   "language": "python",
   "name": "python3"
  },
  "language_info": {
   "codemirror_mode": {
    "name": "ipython",
    "version": 3
   },
   "file_extension": ".py",
   "mimetype": "text/x-python",
   "name": "python",
   "nbconvert_exporter": "python",
   "pygments_lexer": "ipython3",
   "version": "3.10.9"
  }
 },
 "nbformat": 4,
 "nbformat_minor": 2
}
