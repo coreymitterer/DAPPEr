{
 "cells": [
  {
   "cell_type": "code",
   "execution_count": 197,
   "metadata": {},
   "outputs": [],
   "source": [
    "import numpy as np\n",
    "from scipy.optimize import curve_fit\n",
    "import matplotlib.pyplot as plt"
   ]
  },
  {
   "cell_type": "code",
   "execution_count": 198,
   "metadata": {},
   "outputs": [],
   "source": [
    "# \"\"\"\n",
    "# Created on March 25, 2023\n",
    "\n",
    "# @author: Josh Goodwill\n",
    "# \"\"\"\n",
    "\n",
    "# import numpy as np\n",
    "# from scipy.optimize import curve_fit\n",
    "\n",
    "# '''\n",
    "# def gen_fit(x, y):\n",
    "# Generates fit of linear and sqrt portion of IV arrays. Refer to\n",
    "# data_processing to idenify filtering of IV arrays. scipy.optimize.curve_fit\n",
    "# used to fit non-linear least squares to fit\n",
    "\n",
    "\n",
    "# input:\n",
    "# V_arr (array); Voltage array\n",
    "# I_arr (array); Current array\n",
    "# proc* (boolean); Whether to process the arrays for better fitting\n",
    "\n",
    "# output:\n",
    "# V_fit (np.array); linear space between min and max voltages from V_arr\n",
    "# model(t, *popt) (np.array); fitted model of I_arr using Voltage range and \n",
    "#                             pointer to popt\n",
    "# popt(array); optimal values for parameters\n",
    "#   V_f  (float) = popt[0]; floating potential\n",
    "#   m1   (float) = popt[1]; slope of linear fit\n",
    "#   b    (float) = popt[2]; y-intercept of linear fit\n",
    "#   a    (float) = popt[3]; multiplication factor of exponential fit\n",
    "#   ne   (float) = popt[4]; electron density [cm^{-3}]\n",
    "#   etemp(float) = popt[5]; electron temperature [K]\n",
    "#   VP   (float) = popt[6]; plasma potential [V]\n",
    "  \n",
    "# Intial guesses/[bounds]:\n",
    "#     V_f   = 0.3   ; [0: 0.5]\n",
    "#     m1    = 100   ; [-1000:1000]\n",
    "#     b     = 80    ; [-100:100]\n",
    "#     a     = 5     ; [0:100]\n",
    "#     ne    = 8*10^8; [0, np.inf]\n",
    "#     etemp = 1000  ; [0, 10000]\n",
    "#     VP    = 0.9   ; [0.5, 1.5]\n",
    "\n",
    "# pcov(2D np.array); covariance of popt array\n",
    "# '''\n",
    "\n",
    "# def gen_fit(V_arr, I_arr, proc = False):\n",
    "#     V_proc = []\n",
    "#     I_proc = []\n",
    "#     if proc == True:\n",
    "#         V_proc, I_proc = data_processing(V_arr, I_arr)\n",
    "#     else:\n",
    "#         V_proc, I_proc = V_arr, I_arr\n",
    "#     guess = [0.3, 0.9, 100, 80,  2,  8*(10**10), 1000]    #intial guess\n",
    "#     b = ((0, 0.5, -1000,-100, 0, 0, 0),(0.5, 1.5, 1000,100, 100, np.inf,10000)) #bounds\n",
    "\n",
    "#     # guess = [0.5, 100, 80, 1000, 0.5, 1]    #intial guess\n",
    "#     # b = ((0, -1000, -100, 0, 0, 0.5),(1, 1000, 100, 10000, 100, 3)) #bounds\n",
    "\n",
    "#     popt, pcov = curve_fit(model, V_proc, I_proc, guess, bounds = b)\n",
    "#     # popt, pcov = curve_fit(model, V_proc, I_proc)\n",
    "#     V_fit = np.linspace(min(V_proc),max(V_proc), num = 300) #Voltage array processed for fit\n",
    "#     return V_fit, model(V_fit,*popt), popt, pcov\n",
    "\n",
    "# '''\n",
    "# def model(V_proc, VP, m1, b, ne, etemp, V0):\n",
    "# Model to fit ion, *transition*, electron saturation regions\n",
    "\n",
    "# input:\n",
    "# V_proc (np.array); processed V_arr for fitting\n",
    "# Vf (float); floating potential\n",
    "# m1 (float); slope of linear fit\n",
    "# b  (float); y-intercept of linear fit\n",
    "# ne (float); electron density [cm^{-2}]\n",
    "# etemp(float); electron temperature [K]\n",
    "# VP (float); plasma potential [V]\n",
    "# '''\n",
    "\n",
    "# def model(V_proc, Vf, VP, m1, b, ne, etemp):\n",
    "#     I_fit = np.zeros(len(V_proc))\n",
    "#     #Linear fit for ion saturation\n",
    "#     I_fit[V_proc <= Vf] = lin_fit(V_proc[V_proc <= Vf], m1, b)\n",
    "#     I1_cont =  -(exp_fit(Vf, ne,  etemp, Vf) + lin_fit(Vf, m1, b))\n",
    "#     print(I_fit[V_proc == Vf])\n",
    "#     #Exp fit for transition region\n",
    "#     I_fit[(V_proc > Vf) & (V_proc <= VP)] = exp_fit(V_proc[(V_proc > Vf) & (V_proc <= VP)], ne, etemp,  Vf) + I1_cont\n",
    "#     I2_cont = (exp_fit(VP, ne, etemp,  Vf) + I1_cont)\n",
    "#     #Sqrt fit for electron saturation\n",
    "#     I_fit[V_proc > VP] = sqrt_fit(V_proc[V_proc > VP], ne, etemp ,VP) + I2_cont\n",
    "#     return I_fit\n",
    "\n",
    "# def lin_fit(x, m, y_int): #linear--full model square root\n",
    "#     return m * x + y_int\n",
    "\n",
    "# def exp_fit(x, ne, etemp, Vf): #exponential fit\n",
    "#     q_e = 1.602 * 10**-19 #electron charge [C]\n",
    "#     K_b = 1.381 * 10**-23 #boltzman constant [m^2*kg/(s^2*K)]   \n",
    "#     k = q_e / (K_b * etemp) \n",
    "#     K_b = 1.381 * 10**-23 #boltzman constant [m^2*kg/(s^2*K)]   \n",
    "#     m_e = 9.109 * 10**-31 #electron mass [kg]              \n",
    "#     R = (3./16.) * 2.54 #radius of probe [cm]\n",
    "#     L = (3.25) * 2.54 #length of probe [cm]\n",
    "#     A = 2. * np.pi * R * L + np.pi * (R ** 2) #top and length area of cylinder [cm^2]\n",
    "#     # A = 4 * np.pi * R**2\n",
    "\n",
    "#     k = q_e / (K_b * etemp)\n",
    "#     I0 = ne * q_e * np.sqrt(K_b * etemp / (2. * np.pi * m_e)) * A / (10**-9)\n",
    "#     return I0 * np.exp(k * (x - Vf))\n",
    "\n",
    "# '''\n",
    "# def sqrt_fit(x, ne, etemp, V0)\n",
    "# Uses Eq. 1.4 and 1.5 of https://digitalcommons.usu.edu/etd/274\n",
    "\n",
    "# input:\n",
    "# x (np.array); V_proc [V]\n",
    "# ne (float); electron density [cm?]\n",
    "# etemp(float); electron temperature [K]\n",
    "# VP (float); negative plasma potential [V]\n",
    "\n",
    "# output:\n",
    "# I (float); current fit [nA]\n",
    "# '''\n",
    "# def sqrt_fit(x, ne, etemp, VP):# square root\n",
    "#     q_e = 1.602 * 10**-19 #electron charge [C]\n",
    "#     K_b = 1.381 * 10**-23 #boltzman constant [m^2*kg/(s^2*K)]   \n",
    "#     k = q_e / (K_b * etemp) \n",
    "#     K_b = 1.381 * 10**-23 #boltzman constant [m^2*kg/(s^2*K)]   \n",
    "#     m_e = 9.109 * 10**-31 #electron mass [kg]              \n",
    "#     # R = 1 #radius of probe [cm?]\n",
    "#     # A = 4 * np.pi * R**2\n",
    "#     R = (3./16.) * 2.54 #radius of probe [cm]\n",
    "#     L = (3.25) * 2.54 #length of probe [cm]\n",
    "#     A = 2. * np.pi * R * L + np.pi * (R ** 2) #top and length area of cylinder [cm^2]\n",
    "#     k = q_e / (K_b * etemp)\n",
    "#     I0 = ne * q_e * np.sqrt(K_b * etemp / (2. * np.pi * m_e)) * A / (10**-9)\n",
    "#     return I0 * np.sqrt(1. + k*(x - VP))\n",
    "\n",
    "# '''\n",
    "# def data_processing(V, I)\n",
    "# Processes Voltage and Current arrays to reduce points for fitting algorithm.\n",
    "# Removes Voltage below -3 V and above first max of Current array\n",
    "\n",
    "# input:\n",
    "# V (np.array); Normal Voltage array\n",
    "# I (np.array); Normal Current array\n",
    "\n",
    "# output:\n",
    "# V_proc (np.array); processed Voltage array\n",
    "# I_proc (np.array); processed Current array\n",
    "# '''\n",
    "\n",
    "# def data_processing(V, I):\n",
    "#     Imax = np.argmax(I) #find index of maximum Current\n",
    "#     if (Imax.size != 1):\n",
    "#         Vmin_Imax = np.argmin(V[Imax]) #find lowest voltage value with max current\n",
    "#     else:\n",
    "#         Vmin_Imax = Imax\n",
    "#     V_rem = (V > -3) & (V < V[Vmin_Imax]) #array of voltages > -3V and < Vmin_Imax\n",
    "#     V_proc = V[V_rem]\n",
    "#     I_proc = I[V_rem]\n",
    "#     return V_proc, I_proc"
   ]
  },
  {
   "cell_type": "code",
   "execution_count": 199,
   "metadata": {},
   "outputs": [],
   "source": [
    "\n",
    "def model(x,xa,b,m1,n,t,V0):\n",
    "    #changed to be hopefully more effeicent\n",
    "    ret = np.zeros(len(x))\n",
    "    ret[x <= xa] = seg1(x[x <= xa],m1) - seg1(xa, m1) + b\n",
    "    ret[x > xa] = seg2(x[x > xa],n,t,V0) - seg2(xa,n,t,V0) + seg1(xa,m1) - seg1(xa, m1) + b\n",
    "    return ret\n",
    "\n",
    "def seg1(x,m):#linear--full model square root\n",
    "    return m * x\n",
    "\n",
    "def seg2(x,n,t,V0):# square root\n",
    "    q_e = 1.602 * 10**-19 #C                charge of an electron\n",
    "    K_b = 1.381 * 10**-23 #m^2*kg/(s^2*K)   boltzman constant\n",
    "    m_e = 9.109 * 10**-31 #kg               mass of an electron\n",
    "    R = (3./16.) * 0.0254 #radius of probe\n",
    "    L = (3.25) * 0.0254 #length of probe\n",
    "    A = 2. * np.pi * R * L + np.pi * (R ** 2) #area of probe cylinder with out a bottom\n",
    "\n",
    "    k = q_e / (K_b * t)\n",
    "    I0 =n * q_e * np.sqrt(K_b * t / (2. * np.pi * m_e)) * A / (10**-9)\n",
    "    return I0 * np.sqrt(1. + k*(x + V0))"
   ]
  },
  {
   "cell_type": "code",
   "execution_count": 290,
   "metadata": {},
   "outputs": [],
   "source": [
    "Varr = np.linspace(-6, 6, 1000)\n",
    "Iarr = model(Varr, 0.5, 4, 10, 6.7e10, 800, 0.5) + np.random.rand(1000) * 500"
   ]
  },
  {
   "cell_type": "code",
   "execution_count": 291,
   "metadata": {},
   "outputs": [
    {
     "data": {
      "text/plain": [
       "[<matplotlib.lines.Line2D at 0x7f82f17f39a0>]"
      ]
     },
     "execution_count": 291,
     "metadata": {},
     "output_type": "execute_result"
    },
    {
     "data": {
      "image/png": "[encoded data removed]",
      "text/plain": [
       "<Figure size 432x288 with 1 Axes>"
      ]
     },
     "metadata": {
      "needs_background": "light"
     },
     "output_type": "display_data"
    }
   ],
   "source": [
    "plt.plot(Varr, Iarr)"
   ]
  },
  {
   "cell_type": "code",
   "execution_count": 281,
   "metadata": {},
   "outputs": [
    {
     "name": "stdout",
     "output_type": "stream",
     "text": [
      "25.414546998483875\n"
     ]
    }
   ],
   "source": [
    "R = (3./16.) * 2.54 #radius of probe [cm]\n",
    "L = (3.25) * 2.54 #length of probe [cm]\n",
    "A = 2. * np.pi * R * L + np.pi * (R**2) #top and length area of cylinder [cm^2]\n",
    "print(A)"
   ]
  },
  {
   "cell_type": "code",
   "execution_count": 203,
   "metadata": {},
   "outputs": [
    {
     "name": "stdout",
     "output_type": "stream",
     "text": [
      "12.566370614359172\n"
     ]
    }
   ],
   "source": [
    "R = 1 #radius of probe [cm]\n",
    "A = 4. * np.pi * R**2 #top and length area of cylinder [cm^2]\n",
    "print(A)"
   ]
  },
  {
   "cell_type": "code",
   "execution_count": null,
   "metadata": {},
   "outputs": [],
   "source": []
  }
 ],
 "metadata": {
  "kernelspec": {
   "display_name": "base",
   "language": "python",
   "name": "python3"
  },
  "language_info": {
   "codemirror_mode": {
    "name": "ipython",
    "version": 3
   },
   "file_extension": ".py",
   "mimetype": "text/x-python",
   "name": "python",
   "nbconvert_exporter": "python",
   "pygments_lexer": "ipython3",
   "version": "3.9.7"
  }
 },
 "nbformat": 4,
 "nbformat_minor": 2
}
